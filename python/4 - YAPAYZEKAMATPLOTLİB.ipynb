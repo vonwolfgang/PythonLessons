{
 "cells": [
  {
   "cell_type": "code",
   "execution_count": 2,
   "metadata": {},
   "outputs": [],
   "source": [
    "import matplotlib as plt\n",
    "import pandas as pd "
   ]
  },
  {
   "cell_type": "markdown",
   "metadata": {},
   "source": [
    "##  veri setini gene yükleyemedin bunu öğren "
   ]
  },
  {
   "cell_type": "code",
   "execution_count": 3,
   "metadata": {},
   "outputs": [],
   "source": [
    "## plt.figure(figsize = (15,6)) --> bu komut ile oluşturduğumuz grafiğin boyutlarını belirleriz\n",
    "## plt.plot(x ekseni , y ekseni) --> bu komut ile x ekseni ve y eksenine nelerin oluşturcağını belirleriz\n",
    "## plt.show() --> bu komut ile oluşturduğumuz grafiği görebiliriz\n",
    "## plt.xticks(rotation = 90) --> bu komut ile grafiğimizdeki x eksenindeki verileri 90 derece döndürebiliriz\n",
    "## plt.title(\"başlık\") --> bu komut ile grafiğimize başlık ekleriz\n",
    "## plt.xlabel(\"başlık\") --> bu komut ile x eksenine başlık ekleriz\n",
    "## plt.ylabel(\"başlık\") --> bu komut ile y eksenine başlık ekleriz\n",
    "## plt.plot(x ekseni , y ekseni , color = \"yellow\" ) --> tablomuza renk ekledik \n",
    "## plt.plot(x ekseni , y ekseni , linewidth=5 ) --> tablomuzun yazı kalınlığını 5 yaptık\n",
    "## plt.plot(x ekseni , y ekseni , linestyle=\"--\" ) --> tablomuzun yazı tipini \"--\" yaptık \n",
    "## plt.plot(x ekseni , y ekseni , marker=\"o\" ) --> tablomuzda kırılım noktalarına belirlenen şekli koyar\n",
    "## plt.plot(x ekseni , y ekseni , markersize=10 ) --> tablomuzdaki markerın kalınlığını \n",
    "## plt.plot(x ekseni , y ekseni , markerfacecolor=\"red\" ) --> tablomuzdaki markerın rengini \n",
    "## plt.plot(x ekseni , y ekseni , markeredgewidth = 4) --> tablomuzdaki markerin kalınlığını \n",
    "## plt.plot(x ekseni , y ekseni , markeredgecolor = \"black\" ) --> tablomuzdaki markerın rengini \n",
    "\n"
   ]
  },
  {
   "cell_type": "code",
   "execution_count": 6,
   "metadata": {},
   "outputs": [
    {
     "ename": "AttributeError",
     "evalue": "module 'matplotlib' has no attribute 'plot'",
     "output_type": "error",
     "traceback": [
      "\u001b[1;31m---------------------------------------------------------------------------\u001b[0m",
      "\u001b[1;31mAttributeError\u001b[0m                            Traceback (most recent call last)",
      "\u001b[1;32m<ipython-input-6-fb33ab4e67ff>\u001b[0m in \u001b[0;36m<module>\u001b[1;34m\u001b[0m\n\u001b[1;32m----> 1\u001b[1;33m \u001b[0mplt\u001b[0m\u001b[1;33m.\u001b[0m\u001b[0mplot\u001b[0m\u001b[1;33m(\u001b[0m\u001b[0mgroup_name\u001b[0m\u001b[1;33m,\u001b[0m \u001b[0morder_no\u001b[0m\u001b[1;33m)\u001b[0m\u001b[1;33m\u001b[0m\u001b[1;33m\u001b[0m\u001b[0m\n\u001b[0m",
      "\u001b[1;31mAttributeError\u001b[0m: module 'matplotlib' has no attribute 'plot'"
     ]
    }
   ],
   "source": []
  },
  {
   "cell_type": "code",
   "execution_count": null,
   "metadata": {},
   "outputs": [],
   "source": []
  }
 ],
 "metadata": {
  "kernelspec": {
   "display_name": "Python 3",
   "language": "python",
   "name": "python3"
  },
  "language_info": {
   "codemirror_mode": {
    "name": "ipython",
    "version": 3
   },
   "file_extension": ".py",
   "mimetype": "text/x-python",
   "name": "python",
   "nbconvert_exporter": "python",
   "pygments_lexer": "ipython3",
   "version": "3.8.3"
  }
 },
 "nbformat": 4,
 "nbformat_minor": 4
}
