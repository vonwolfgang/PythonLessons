{
 "cells": [
  {
   "cell_type": "code",
   "execution_count": 1,
   "metadata": {},
   "outputs": [],
   "source": [
    "a = 0"
   ]
  },
  {
   "cell_type": "code",
   "execution_count": 2,
   "metadata": {},
   "outputs": [
    {
     "name": "stdout",
     "output_type": "stream",
     "text": [
      "hello\n",
      "hello\n",
      "hello\n",
      "hello\n",
      "hello\n"
     ]
    }
   ],
   "source": [
    "while a < 5 :\n",
    "    print(\"hello\")\n",
    "    a = a + 1"
   ]
  },
  {
   "cell_type": "code",
   "execution_count": 3,
   "metadata": {},
   "outputs": [],
   "source": [
    "## yukarıdaki döngüde makine önce a ya baktı 5 den küçük dedi sonra hello yazdırdı sonra a = a + 1 e denk geldi a = 1 olunca başa döndü baktı a gene 5 den küçük gene devam etti bu yukardaki koşul bozulana kadar devam etti"
   ]
  },
  {
   "cell_type": "code",
   "execution_count": 4,
   "metadata": {},
   "outputs": [],
   "source": [
    "## eğer a = a + 1 hiç demeseydik a nın değeri hiç değişmeyeeği için while döngüsü sonsuza kadar devam edicekti \n",
    "## ve sonsuz tane hello yazdırmaya çalışıcaktı buda pc nin çökmesine yada kitlenmesine sebep olurdu "
   ]
  },
  {
   "cell_type": "code",
   "execution_count": 7,
   "metadata": {},
   "outputs": [],
   "source": [
    "my_list_1 = [1,2,3,4,5]"
   ]
  },
  {
   "cell_type": "code",
   "execution_count": 8,
   "metadata": {},
   "outputs": [
    {
     "name": "stdout",
     "output_type": "stream",
     "text": [
      "hello\n",
      "hello\n",
      "hello\n"
     ]
    }
   ],
   "source": [
    "while 3 in my_list_1:\n",
    "    print(\"hello\")\n",
    "    my_list_1.pop()"
   ]
  },
  {
   "cell_type": "code",
   "execution_count": 9,
   "metadata": {},
   "outputs": [],
   "source": [
    "## yukarıda pop methodu sayesinde sonsuz olan while döngüsünü sonlandırdık her seferinde pop en son elemanı attı en son sıra 3 e geldi ve 3ü de atınca while döngüsü sonlandı"
   ]
  },
  {
   "cell_type": "code",
   "execution_count": 10,
   "metadata": {},
   "outputs": [],
   "source": [
    "number = 0"
   ]
  },
  {
   "cell_type": "code",
   "execution_count": 11,
   "metadata": {},
   "outputs": [
    {
     "name": "stdout",
     "output_type": "stream",
     "text": [
      "0\n",
      "1\n",
      "2\n",
      "3\n",
      "4\n",
      "5\n",
      "6\n",
      "7\n",
      "8\n",
      "9\n"
     ]
    }
   ],
   "source": [
    "while number < 10 :\n",
    "    print(number)\n",
    "    number += 1"
   ]
  },
  {
   "cell_type": "code",
   "execution_count": 12,
   "metadata": {},
   "outputs": [],
   "source": [
    "## yukarıda += 1 number = number + 1 demek "
   ]
  },
  {
   "cell_type": "code",
   "execution_count": 17,
   "metadata": {},
   "outputs": [],
   "source": [
    "p = 0 "
   ]
  },
  {
   "cell_type": "code",
   "execution_count": 18,
   "metadata": {},
   "outputs": [
    {
     "name": "stdout",
     "output_type": "stream",
     "text": [
      "values p : 0\n",
      "values p : 1\n",
      "values p : 2\n",
      "values p : 3\n",
      "values p : 4\n",
      "values p : 5\n",
      "values p : 6\n",
      "values p : 7\n",
      "values p : 8\n",
      "values p : 9\n",
      "values p : 10\n",
      "values p : 11\n",
      "values p : 12\n",
      "values p : 13\n",
      "values p : 14\n",
      "values p : 15\n",
      "values p : 16\n",
      "values p : 17\n",
      "values p : 18\n",
      "values p : 19\n"
     ]
    }
   ],
   "source": [
    "while p < 20 :\n",
    "    ##print(\"p values : \" + str(p))\n",
    "    print(f\"values p : {p}\")\n",
    "    p += 1"
   ]
  },
  {
   "cell_type": "code",
   "execution_count": 19,
   "metadata": {},
   "outputs": [],
   "source": [
    "## yukarıda yorum satırı haline getirilmiş olan ifadenin aynı çıktısını onun bir altında bulunan ifade ile de alabiliriz"
   ]
  },
  {
   "cell_type": "code",
   "execution_count": null,
   "metadata": {},
   "outputs": [],
   "source": []
  }
 ],
 "metadata": {
  "kernelspec": {
   "display_name": "Python 3",
   "language": "python",
   "name": "python3"
  },
  "language_info": {
   "codemirror_mode": {
    "name": "ipython",
    "version": 3
   },
   "file_extension": ".py",
   "mimetype": "text/x-python",
   "name": "python",
   "nbconvert_exporter": "python",
   "pygments_lexer": "ipython3",
   "version": "3.8.3"
  }
 },
 "nbformat": 4,
 "nbformat_minor": 4
}
