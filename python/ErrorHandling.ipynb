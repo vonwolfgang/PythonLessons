{
 "cells": [
  {
   "cell_type": "code",
   "execution_count": 1,
   "metadata": {},
   "outputs": [],
   "source": [
    "## burda program çökmesin diye bişe ler öğreniyoz"
   ]
  },
  {
   "cell_type": "markdown",
   "metadata": {},
   "source": [
    "# try , except , finally "
   ]
  },
  {
   "cell_type": "code",
   "execution_count": null,
   "metadata": {},
   "outputs": [
    {
     "name": "stdout",
     "output_type": "stream",
     "text": [
      "enter a number: s\n",
      "please just number \n",
      "finally\n",
      "enter a number: f\n",
      "please just number \n",
      "finally\n",
      "enter a number: g\n",
      "please just number \n",
      "finally\n"
     ]
    }
   ],
   "source": [
    "while True:\n",
    "\n",
    "    try:\n",
    "        my_int = int(input(\"enter a number: \" ))\n",
    "    except:\n",
    "        print(\"please just number \")\n",
    "        \n",
    "    else : \n",
    "        print(\"ok\")\n",
    "        break\n",
    "    finally:\n",
    "        print(\"finally\")\n",
    "    "
   ]
  },
  {
   "cell_type": "code",
   "execution_count": null,
   "metadata": {},
   "outputs": [],
   "source": [
    "## yukarıda döngü oluşturduk try komutu önce bakıyor bi deniyor adam koşula uygun mu girmiş eger girmişse excep ti atlıyor \n",
    "## ve direk else geçiyor finally zaten her koşulda çalıştırılıyor eğer adam doğru şeyi girmemişse except çalışıyor zaten \n",
    "## finally hep çalışıyor "
   ]
  },
  {
   "cell_type": "code",
   "execution_count": null,
   "metadata": {},
   "outputs": [],
   "source": []
  }
 ],
 "metadata": {
  "kernelspec": {
   "display_name": "Python 3",
   "language": "python",
   "name": "python3"
  },
  "language_info": {
   "codemirror_mode": {
    "name": "ipython",
    "version": 3
   },
   "file_extension": ".py",
   "mimetype": "text/x-python",
   "name": "python",
   "nbconvert_exporter": "python",
   "pygments_lexer": "ipython3",
   "version": "3.8.3"
  }
 },
 "nbformat": 4,
 "nbformat_minor": 4
}
