{
 "cells": [
  {
   "cell_type": "code",
   "execution_count": 2,
   "metadata": {},
   "outputs": [],
   "source": [
    "import pandas as pd \n",
    "import numpy as np"
   ]
  },
  {
   "cell_type": "markdown",
   "metadata": {},
   "source": [
    "## içeriye data yüklemyi başaramadın öğren "
   ]
  },
  {
   "cell_type": "code",
   "execution_count": 3,
   "metadata": {},
   "outputs": [],
   "source": [
    "## data.shape --> datanın satır ve sütun sayısını söyler\n",
    "## data.head() --> datamızın varsayılan olarak ilk beş verisini gösterir\n",
    "## data.head(10) --> ise datamıızın ilk 10 verisini gösterir\n",
    "## data.tail() --> sondan 5 veriyi gösterir istersek içine istediğimiz sayıyı yazabiliria head() gibi \n",
    "## data.info() --> satır sütun sayısını data la ilgili birsürü bilgi verir\n",
    "## data.isnull().sum().sort_values(ascending=False) --> ile datamızdaki boş yerleri sıralayıp sayısını görebiliriz\n",
    "## data[\"datanın içindeki bir değişken ismi\"].value_counts() --> ile o değişken ile ilgili bilgi alabiliriz\n",
    "## data[\"datanın içindeki bir değişken ismi\"].fillna([\"aynı değişkenin ismi\"].mode()[0],inplace = True) --> bu şey ile \n",
    "## değişkenin içinde boş olan yerler var ise orayı mode veya aritmetik ortalama ile felan doldurabiliriz\n",
    "##"
   ]
  },
  {
   "cell_type": "code",
   "execution_count": null,
   "metadata": {},
   "outputs": [],
   "source": []
  }
 ],
 "metadata": {
  "kernelspec": {
   "display_name": "Python 3",
   "language": "python",
   "name": "python3"
  },
  "language_info": {
   "codemirror_mode": {
    "name": "ipython",
    "version": 3
   },
   "file_extension": ".py",
   "mimetype": "text/x-python",
   "name": "python",
   "nbconvert_exporter": "python",
   "pygments_lexer": "ipython3",
   "version": "3.8.3"
  }
 },
 "nbformat": 4,
 "nbformat_minor": 4
}
